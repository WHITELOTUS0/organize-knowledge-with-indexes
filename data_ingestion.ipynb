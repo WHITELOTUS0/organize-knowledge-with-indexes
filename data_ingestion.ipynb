{
  "nbformat": 4,
  "nbformat_minor": 0,
  "metadata": {
    "colab": {
      "provenance": []
    },
    "kernelspec": {
      "name": "python3",
      "display_name": "Python 3"
    },
    "language_info": {
      "name": "python"
    }
  },
  "cells": [
    {
      "cell_type": "markdown",
      "source": [
        "## Streamlined Data Ingestion: Text, PyPDF,  Selenium URL Loaders, and Google Drive Sync\n",
        "\n",
        "### Introduction\n",
        "\n",
        "The TextLoader handles plain text files, while the PyPDFLoader specializes in PDF files, offering easy access to content and metadata. SeleniumURLLoader is designed for loading HTML documents from URLs that require JavaScript rendering. Lastly, the Google Drive Loader provides seamless integration with Google Drive, allowing for the import of data from Google Docs or folders."
      ],
      "metadata": {
        "id": "8fcqu2NsRWpM"
      }
    },
    {
      "cell_type": "markdown",
      "source": [
        "### TextLoader\n",
        "Import the LangChain and necessary loaders from  langchain.document_loaders. Remember to install the required packages with the following command: `pip install langchain==0.0.208 deeplake==3.9.27 openai==0.27.8 tiktoken.`"
      ],
      "metadata": {
        "id": "HygoxulVRtLT"
      }
    },
    {
      "cell_type": "code",
      "execution_count": null,
      "metadata": {
        "id": "8q7NVb4LROyO"
      },
      "outputs": [],
      "source": [
        "%pip install langchain==0.0.208 deeplake==3.9.27 openai==0.27.8 tiktoken"
      ]
    },
    {
      "cell_type": "code",
      "source": [
        "from langchain.document_loaders import TextLoader\n",
        "\n",
        "loader = TextLoader('sample1.txt')\n",
        "documents = loader.load()"
      ],
      "metadata": {
        "id": "d_iM9gBgSVG9"
      },
      "execution_count": 2,
      "outputs": []
    },
    {
      "cell_type": "markdown",
      "source": [
        "### PyPDFLoader (PDF)\n",
        "The LangChain library provides two methods for loading and processing PDF files: `PyPDFLoader` and `PDFMinerLoader`. We mainly focus on the former, which is used to load PDF files into an array of documents, where each document contains the page content and metadata with the page number. First, install the package using Python Package Manager (PIP).\n",
        "\n",
        "\n",
        "```\n",
        "!pip install -q pypdf\n",
        "```\n",
        "\n"
      ],
      "metadata": {
        "id": "eKsK8OvwTN6E"
      }
    },
    {
      "cell_type": "code",
      "source": [
        "!pip install -q pypdf"
      ],
      "metadata": {
        "colab": {
          "base_uri": "https://localhost:8080/"
        },
        "id": "8dqcPZv1Tmzg",
        "outputId": "b7995e11-e613-4ce0-ca9e-7730d40c20b8"
      },
      "execution_count": 4,
      "outputs": [
        {
          "output_type": "stream",
          "name": "stdout",
          "text": [
            "\u001b[?25l   \u001b[90m━━━━━━━━━━━━━━━━━━━━━━━━━━━━━━━━━━━━━━━━\u001b[0m \u001b[32m0.0/298.0 kB\u001b[0m \u001b[31m?\u001b[0m eta \u001b[36m-:--:--\u001b[0m\r\u001b[2K   \u001b[91m━━━━━━━━━━━━━━━━━━━━━━━━━━━━━━\u001b[0m\u001b[90m╺\u001b[0m\u001b[90m━━━━━━━━━\u001b[0m \u001b[32m225.3/298.0 kB\u001b[0m \u001b[31m6.6 MB/s\u001b[0m eta \u001b[36m0:00:01\u001b[0m\r\u001b[2K   \u001b[90m━━━━━━━━━━━━━━━━━━━━━━━━━━━━━━━━━━━━━━━━\u001b[0m \u001b[32m298.0/298.0 kB\u001b[0m \u001b[31m5.8 MB/s\u001b[0m eta \u001b[36m0:00:00\u001b[0m\n",
            "\u001b[?25h"
          ]
        }
      ]
    },
    {
      "cell_type": "code",
      "source": [
        "from langchain.document_loaders import PyPDFLoader\n",
        "\n",
        "loader = PyPDFLoader(\"sample2.pdf\")\n",
        "pages = loader.load_and_split()\n",
        "\n",
        "print(pages[0])"
      ],
      "metadata": {
        "colab": {
          "base_uri": "https://localhost:8080/"
        },
        "id": "7rczwFK8TWCz",
        "outputId": "398baa7e-df48-4e2f-925c-fbbfdf18ce88"
      },
      "execution_count": 5,
      "outputs": [
        {
          "output_type": "stream",
          "name": "stdout",
          "text": [
            "page_content='PDF Form Example\\nThis is an example of a user fillable PDF form. Normally PDF is used as a final publishing format. \\nHowever PDF has an option to be used as an entry form that can be edited and saved by the user.\\nThe fields of this form have been selected to demonstrate as many as possible of the common \\nentry fields.\\nThis document and PDF form have been created with OpenOffice (version 3.4.0).\\nTo fill out the form, make sure the PDF file is not read-only. If the file is read-only save it first to a \\nfolder or computer desktop. Close this file and open the saved file.\\nPlease fill out the following fields. Important fields are marked yellow.\\nGiven Name:\\nFamily Name:\\nAddress 1:   House nr:\\nAddress 2:\\nPostcode: City:  \\nCountry:\\nGender:\\nHeight (cm):\\nDriving License:\\nI speak and understand (tick all that apply): \\n      \\nFavourite colour:\\nImportant: Save the completed PDF form (use menu File - Save).\\nDeutsch English Français Esperanto Latin' metadata={'source': 'sample2.pdf', 'page': 0}\n"
          ]
        }
      ]
    },
    {
      "cell_type": "markdown",
      "source": [
        "Using PyPDFLoader offers advantages such as simple, straightforward usage and easy access to page content and metadata, like page numbers, in a structured format. However, it has disadvantages, including limited text extraction capabilities compared to PDFMinerLoader."
      ],
      "metadata": {
        "id": "FFvlZbcZUU7p"
      }
    },
    {
      "cell_type": "markdown",
      "source": [
        "### SeleniumURLLoader (URL)\n",
        "The `SeleniumURLLoader` module offers a robust yet user-friendly approach for loading HTML documents from a list of URLs requiring JavaScript rendering. Here is a guide and example for using this class which starts by installing the package using the Python Package Manager (PIP). The codes has been tested for unstructured and selenium libraries with 0.7.7 and 4.10.0, respectively. However, feel free to install the latest versions."
      ],
      "metadata": {
        "id": "0Jq5ETkRUaal"
      }
    },
    {
      "cell_type": "code",
      "source": [
        "%pip install -q unstructured selenium"
      ],
      "metadata": {
        "id": "dtXwtNklUqNu"
      },
      "execution_count": 7,
      "outputs": []
    },
    {
      "cell_type": "markdown",
      "source": [
        "Instantiate the `SeleniumURLLoader` class by providing a list of URLs to load, for example:"
      ],
      "metadata": {
        "id": "Z_k97rKLVGaa"
      }
    },
    {
      "cell_type": "code",
      "source": [
        "from langchain.document_loaders import SeleniumURLLoader\n",
        "\n",
        "urls = [\n",
        "    \"https://www.youtube.com/watch?v=TFa539R09EQ&t=139s\",\n",
        "    \"https://www.youtube.com/watch?v=6Zv6A_9urh4&t=112s\"\n",
        "]\n",
        "\n",
        "loader = SeleniumURLLoader(urls=urls)\n",
        "data = loader.load()\n",
        "\n",
        "print(data[0])"
      ],
      "metadata": {
        "colab": {
          "base_uri": "https://localhost:8080/"
        },
        "id": "3DTQLbccVMj1",
        "outputId": "594e77f1-6a62-4774-891a-abfdbc088d95"
      },
      "execution_count": 9,
      "outputs": [
        {
          "output_type": "stream",
          "name": "stdout",
          "text": [
            "page_content=\"OPENASSISTANT TAKES ON CHATGPT!\\n\\n2x\\n\\nIf playback doesn't begin shortly, try restarting your device.\\n\\nUp next\\n\\nLive\\n\\nUpcoming\\n\\nPlay Now\\n\\nYou're signed out\\n\\nVideos you watch may be added to the TV's watch history and influence TV recommendations. To avoid this, cancel and sign in to YouTube on your computer.\\n\\nMachine Learning Street Talk\\n\\nSubscribe\\n\\nSubscribed\\n\\nShare\\n\\nAn error occurred while retrieving sharing information. Please try again later.\\n\\n2:19\\n\\n2:19 / 59:51•Watch full video\" metadata={'source': 'https://www.youtube.com/watch?v=TFa539R09EQ&t=139s'}\n"
          ]
        }
      ]
    },
    {
      "cell_type": "markdown",
      "source": [
        "The SeleniumURLLoader class includes the following attributes:\n",
        "\n",
        "- URLs (List[str]): List of URLs to load.\n",
        "continue_on_failure (bool, default=True): Continues loading other URLs on failure if True.\n",
        "- browser (str, default=\"chrome\"): Browser selection, either 'Chrome' or 'Firefox'.\n",
        "executable_path (Optional[str], default=None): Browser executable path.\n",
        "- headless (bool, default=True): Browser runs in headless mode if True.\n",
        "\n",
        "Customize these attributes during SeleniumURLLoader instance initialization, such as using Firefox instead of Chrome by setting the browser to \"firefox\":\n",
        "```\n",
        "loader = SeleniumURLLoader(urls=urls, browser=\"firefox\")\n",
        "```\n",
        "Upon invoking the load() method, a list of Document instances containing the loaded content is returned. Each Document instance includes a page_content attribute with the extracted text from the HTML and a metadata attribute containing the source URL.\n",
        "\n",
        "Bear in mind that SeleniumURLLoader may be slower than other loaders since it initializes a browser instance for each URL. Nevertheless, it is advantageous for loading pages necessitating JavaScript rendering."
      ],
      "metadata": {
        "id": "TgNfKznvVowu"
      }
    },
    {
      "cell_type": "markdown",
      "source": [
        "### Google Drive loader\n",
        "The LangChain Google Drive Loader efficiently imports data from Google Drive by using the `GoogleDriveLoader` class. It can fetch data from a list of Google Docs document IDs or a single folder ID.\n",
        "\n",
        "Prepare necessary credentials and tokens:\n",
        "\n",
        "- By default, the GoogleDriveLoader searches for the credentials.json file in ~/.credentials/credentials.json. Use the credentials_file keyword argument to modify this path.\n",
        "- The token.json file follows the same principle and will be created automatically upon the loader's first use.\n",
        "\n",
        "**To set up the `credentials_file`, follow these steps:**\n",
        "\n",
        "1. Create a new Google Cloud Platform project or use an existing one by visiting the Google Cloud Console. Ensure that billing is enabled for your project.\n",
        "2. Enable the Google Drive API by navigating to its dashboard in the Google Cloud Console and clicking \"Enable.\"\n",
        "3. Create a service account by going to the Service Accounts page in the Google Cloud Console. Follow the prompts to set up a new service account.\n",
        "4. Assign necessary roles to the service account, such as \"Google Drive API - Drive File Access\" and \"Google Drive API - Drive Metadata Read/Write Access,\" depending on your needs.\n",
        "5. After creating the service account, access the \"Actions\" menu next to it, select \"Manage keys,\" click \"Add Key,\" and choose \"JSON\" as the key type. This generates a JSON key file and downloads it to your computer, which serves as your credentials_file.\n",
        "\n",
        "Retrieve the folder or document ID from the URL:\n",
        "\n",
        "- Folder: https://drive.google.com/drive/u/0/folders/{folder_id}\n",
        "- Document: https://docs.google.com/document/d/{document_id}/edit\n",
        "\n",
        "Import the GoogleDriveLoader class:\n",
        "```\n",
        "from langchain.document_loaders import GoogleDriveLoaderCopy\n",
        "```\n",
        "Instantiate GoogleDriveLoader:\n",
        "\n",
        "```\n",
        "loader = GoogleDriveLoader(\n",
        "    folder_id=\"your_folder_id\",\n",
        "    recursive=False  # Optional: Fetch files from subfolders recursively. Defaults to False.\n",
        ")\n",
        "```\n",
        "Load the documents:\n",
        "\n",
        "```\n",
        "docs = loader.load()Copy\n",
        "```\n",
        "Note that currently, only Google Docs are supported."
      ],
      "metadata": {
        "id": "EaKO1vO5V_3y"
      }
    }
  ]
}